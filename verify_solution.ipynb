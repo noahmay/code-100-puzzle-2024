{
 "cells": [
  {
   "cell_type": "code",
   "execution_count": 3,
   "metadata": {},
   "outputs": [],
   "source": [
    "from ipycanvas import Canvas\n",
    "from solve import results, data"
   ]
  },
  {
   "cell_type": "code",
   "execution_count": 6,
   "metadata": {},
   "outputs": [
    {
     "data": {
      "application/vnd.jupyter.widget-view+json": {
       "model_id": "e49c3a758e9f4cf3be2cb9ed91192974",
       "version_major": 2,
       "version_minor": 0
      },
      "text/plain": [
       "Canvas(height=300, width=600)"
      ]
     },
     "execution_count": 6,
     "metadata": {},
     "output_type": "execute_result"
    }
   ],
   "source": [
    "canvas = Canvas(width=data['width'], height=data['height'])\n",
    "\n",
    "canvas.fill_style = \"white\"\n",
    "canvas.fill_rect(0, 0, width=data['width'], height=data['height'])\n",
    "canvas.fill_style = \"black\"\n",
    "canvas.fill_rect(145, 75, width=20, height=150)\n",
    "canvas.fill_circle(250, 150, 75)\n",
    "canvas.fill_circle(410, 150, 75)\n",
    "canvas.fill_style = \"white\"\n",
    "canvas.fill_circle(250, 150, 55)\n",
    "canvas.fill_circle(410, 150, 55)\n",
    "\n",
    "for x, y, is_in_black in results:\n",
    "    if is_in_black:\n",
    "        canvas.fill_style = \"lime\"\n",
    "    else:\n",
    "        canvas.fill_style = \"red\"\n",
    "    canvas.fill_circle(x, y, 1)\n",
    "\n",
    "canvas"
   ]
  }
 ],
 "metadata": {
  "kernelspec": {
   "display_name": "Python 3",
   "language": "python",
   "name": "python3"
  },
  "language_info": {
   "codemirror_mode": {
    "name": "ipython",
    "version": 3
   },
   "file_extension": ".py",
   "mimetype": "text/x-python",
   "name": "python",
   "nbconvert_exporter": "python",
   "pygments_lexer": "ipython3",
   "version": "3.11.5"
  }
 },
 "nbformat": 4,
 "nbformat_minor": 2
}
